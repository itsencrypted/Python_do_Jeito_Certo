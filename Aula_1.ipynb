{
 "cells": [
  {
   "cell_type": "markdown",
   "metadata": {},
   "source": [
    "# Aula 1"
   ]
  },
  {
   "cell_type": "code",
   "execution_count": 1,
   "metadata": {},
   "outputs": [
    {
     "name": "stdout",
     "output_type": "stream",
     "text": [
      "É obrigatório a votar.\n"
     ]
    }
   ],
   "source": [
    "idade = 39\n",
    "if idade >= 18 and idade < 70:\n",
    "    print(\"É obrigatório a votar.\")"
   ]
  },
  {
   "cell_type": "markdown",
   "metadata": {},
   "source": [
    "### Variáveis e tipos de dados"
   ]
  },
  {
   "cell_type": "code",
   "execution_count": 2,
   "metadata": {},
   "outputs": [],
   "source": [
    "# int integer\n",
    "dia = 30\n",
    "\n",
    "# float floating point\n",
    "valor = 13.99\n",
    "\n",
    "# str string\n",
    "msg = 'palavra'\n",
    "frase = 'toda string é uma cadeia de caracteres'\n",
    "\n",
    "# bool boolean\n",
    "situacao_regular = False"
   ]
  },
  {
   "cell_type": "markdown",
   "metadata": {},
   "source": [
    "### Saída de dados - print"
   ]
  },
  {
   "cell_type": "code",
   "execution_count": 3,
   "metadata": {},
   "outputs": [
    {
     "name": "stdout",
     "output_type": "stream",
     "text": [
      "30\n",
      "13.99\n",
      "palavra\n",
      "toda string é uma cadeia de caracteres\n",
      "False\n"
     ]
    }
   ],
   "source": [
    "print(dia)\n",
    "print(valor)\n",
    "print(msg)\n",
    "print(frase)\n",
    "print(situacao_regular)"
   ]
  },
  {
   "cell_type": "markdown",
   "metadata": {},
   "source": [
    "### Controle de fluxo (if, else, elif)"
   ]
  },
  {
   "cell_type": "code",
   "execution_count": 4,
   "metadata": {},
   "outputs": [
    {
     "name": "stdout",
     "output_type": "stream",
     "text": [
      "A condição é falsa.\n",
      "Fora do if\n"
     ]
    }
   ],
   "source": [
    "situacao_regular = False\n",
    "if situacao_regular:\n",
    "    print(\"A condição é verdadeira.\")\n",
    "    print(1 + 8)\n",
    "else:\n",
    "    print('A condição é falsa.')\n",
    "    \n",
    "print(\"Fora do if\")"
   ]
  },
  {
   "cell_type": "code",
   "execution_count": 5,
   "metadata": {},
   "outputs": [
    {
     "name": "stdout",
     "output_type": "stream",
     "text": [
      "Não pode votar.\n"
     ]
    }
   ],
   "source": [
    "idade = 70\n",
    "\n",
    "if idade >= 18 and idade < 70:\n",
    "    print('É obrigado a votar.')\n",
    "else:\n",
    "    print('Não pode votar.')"
   ]
  },
  {
   "cell_type": "code",
   "execution_count": 6,
   "metadata": {},
   "outputs": [
    {
     "name": "stdout",
     "output_type": "stream",
     "text": [
      "É obrigado a votar.\n"
     ]
    }
   ],
   "source": [
    "idade = 34\n",
    "\n",
    "if idade >= 18 and idade < 70:\n",
    "    print('É obrigado a votar.')\n",
    "elif idade >= 16: #or idade >= 70:\n",
    "    print('Voto é facultativo.')\n",
    "else:\n",
    "    print('Não pode votar.')"
   ]
  },
  {
   "cell_type": "markdown",
   "metadata": {},
   "source": [
    "### Operações com dados"
   ]
  },
  {
   "cell_type": "code",
   "execution_count": 7,
   "metadata": {},
   "outputs": [
    {
     "name": "stdout",
     "output_type": "stream",
     "text": [
      "11\n",
      "8.4\n",
      "8\n",
      "2\n",
      "abacaxiraposa\n",
      "abacaxi4\n"
     ]
    }
   ],
   "source": [
    "print(4 + 7)\n",
    "print(42 / 5)\n",
    "print(42 // 5)\n",
    "print(42 % 5)\n",
    "\n",
    "print('abacaxi' + 'raposa')\n",
    "print('abacaxi' + '4')"
   ]
  },
  {
   "cell_type": "markdown",
   "metadata": {},
   "source": [
    "### Conversões de tipos de dados"
   ]
  },
  {
   "cell_type": "code",
   "execution_count": 8,
   "metadata": {},
   "outputs": [
    {
     "name": "stdout",
     "output_type": "stream",
     "text": [
      "11\n",
      "11.0\n",
      "7 biscoitos\n"
     ]
    }
   ],
   "source": [
    "numero = '4'\n",
    "print(int(numero) + 7)\n",
    "print(float(numero) + 7)\n",
    "print(str(7) + ' ' + 'biscoito' + 's')"
   ]
  },
  {
   "cell_type": "code",
   "execution_count": 9,
   "metadata": {},
   "outputs": [
    {
     "name": "stdout",
     "output_type": "stream",
     "text": [
      "<class 'int'>\n",
      "<class 'float'>\n",
      "<class 'str'>\n",
      "<class 'bool'>\n"
     ]
    }
   ],
   "source": [
    "# exibir o tipo de dado \n",
    "print(type(7))\n",
    "print(type(82.3))\n",
    "print(type('python'))\n",
    "print(type(True))"
   ]
  },
  {
   "cell_type": "markdown",
   "metadata": {},
   "source": [
    "### Entrada de dados"
   ]
  },
  {
   "cell_type": "code",
   "execution_count": 10,
   "metadata": {},
   "outputs": [
    {
     "name": "stdout",
     "output_type": "stream",
     "text": [
      "Digite um número: 56\n",
      "60\n"
     ]
    }
   ],
   "source": [
    "numero = int(input('Digite um número: '))\n",
    "#numero = int(numero)\n",
    "print(numero + 4)"
   ]
  },
  {
   "cell_type": "code",
   "execution_count": 11,
   "metadata": {},
   "outputs": [
    {
     "name": "stdout",
     "output_type": "stream",
     "text": [
      "Digite sua idade: 34\n",
      "É obrigado a votar.\n"
     ]
    }
   ],
   "source": [
    "idade = int(input(\"Digite sua idade: \"))\n",
    "\n",
    "if idade >= 18 and idade < 70:\n",
    "    print('É obrigado a votar.')\n",
    "elif idade >= 16: \n",
    "    print('Voto é facultativo.')\n",
    "else:\n",
    "    print('Não pode votar.')"
   ]
  },
  {
   "cell_type": "markdown",
   "metadata": {},
   "source": [
    "### Formatação de strings"
   ]
  },
  {
   "cell_type": "code",
   "execution_count": 12,
   "metadata": {},
   "outputs": [
    {
     "name": "stdout",
     "output_type": "stream",
     "text": [
      "Com 34 anos é obrigado a votar.\n",
      "Com 34 anos é obrigado a votar.\n",
      "Com 34 anos é obrigado a votar.\n"
     ]
    }
   ],
   "source": [
    "idade = 34 #int(input(\"Digite sua idade:\"))\n",
    "print(\"Com \"+ str(idade) + \" anos é obrigado a votar.\")\n",
    "print(\"Com\", idade, \"anos é obrigado a votar.\")\n",
    "print(f\"Com {idade} anos é obrigado a votar.\")"
   ]
  },
  {
   "cell_type": "code",
   "execution_count": 13,
   "metadata": {},
   "outputs": [
    {
     "name": "stdout",
     "output_type": "stream",
     "text": [
      "Digite sua idade: 16\n",
      "Com 16 anos seu voto é facultativo.\n"
     ]
    }
   ],
   "source": [
    "idade = int(input(\"Digite sua idade: \"))\n",
    "\n",
    "if idade >= 18 and idade < 70:\n",
    "    print(f'Com {idade} anos seu voto é obrigatório.')\n",
    "elif idade >= 16: \n",
    "    print(f'Com {idade} anos seu voto é facultativo.')\n",
    "else:\n",
    "    print(f'Com {idade} anos não pode votar.')"
   ]
  },
  {
   "cell_type": "markdown",
   "metadata": {},
   "source": [
    "**Exercícios**"
   ]
  },
  {
   "cell_type": "code",
   "execution_count": 2,
   "metadata": {},
   "outputs": [
    {
     "name": "stdout",
     "output_type": "stream",
     "text": [
      "Digite um número: 7\n",
      "O número 7 não é par.\n"
     ]
    }
   ],
   "source": [
    "'''\n",
    "Escreva um programa que recebe um número inteiro do usuário \n",
    "e responde se esse número é par ou não. Se um número é divisível por 2, ele é par.\n",
    "'''\n",
    "\n",
    "n = int(input(\"Digite um número: \"))\n",
    "if n // 2 == 0:\n",
    "    print(f\"O número {n} é par.\")\n",
    "else:\n",
    "    print(f\"O número {n} não é par.\")"
   ]
  },
  {
   "cell_type": "code",
   "execution_count": 7,
   "metadata": {},
   "outputs": [
    {
     "name": "stdout",
     "output_type": "stream",
     "text": [
      "Digite sua idade: 16\n",
      "É facultativo votar.\n"
     ]
    }
   ],
   "source": [
    "'''\n",
    "Reescreva o programa que avalia a obrigatoriedade do voto de outra forma, \n",
    "mas mantendo as 3 respostas corretas (obrigatório, facultativo, proibido).\n",
    "'''\n",
    "\n",
    "idade = int(input(\"Digite sua idade: \"))\n",
    " \n",
    "if idade < 16:\n",
    "    print('É proibido votar.')\n",
    "elif idade >= 18 and idade < 70:\n",
    "    print('É obrigatório votar.')\n",
    "else:\n",
    "    print('É facultativo votar.')"
   ]
  },
  {
   "cell_type": "markdown",
   "metadata": {},
   "source": [
    "No Hackerrank, você também encontra alguns exercícios bem simples como nossos experimentos.Caso nunca tenha usado a plataforma Hackerrank, sugerimos assistir a este vídeo para conhecer: \n",
    "\n",
    "https://www.youtube.com/embed/pYMcPfrrJP8\n",
    "\n",
    "https://www.hackerrank.com/challenges/py-hello-world/problem\n",
    "\n",
    "https://www.hackerrank.com/challenges/python-arithmetic-operators/problem\n",
    "\n",
    "https://www.hackerrank.com/challenges/python-division/problem"
   ]
  },
  {
   "cell_type": "code",
   "execution_count": null,
   "metadata": {},
   "outputs": [],
   "source": []
  }
 ],
 "metadata": {
  "kernelspec": {
   "display_name": "Python 3",
   "language": "python",
   "name": "python3"
  },
  "language_info": {
   "codemirror_mode": {
    "name": "ipython",
    "version": 3
   },
   "file_extension": ".py",
   "mimetype": "text/x-python",
   "name": "python",
   "nbconvert_exporter": "python",
   "pygments_lexer": "ipython3",
   "version": "3.6.9"
  }
 },
 "nbformat": 4,
 "nbformat_minor": 4
}
